{
 "cells": [
  {
   "cell_type": "code",
   "execution_count": null,
   "id": "da30c3be",
   "metadata": {},
   "outputs": [],
   "source": [
    "from functools import reduce\n",
    "a = input()\n",
    "calc = [int(i) for i in a.split()]\n",
    "b = reduce(lambda x, y: x * y, calc)\n",
    "print(b)"
   ]
  },
  {
   "cell_type": "code",
   "execution_count": null,
   "id": "0db7ba31",
   "metadata": {},
   "outputs": [],
   "source": [
    "a = str(input())\n",
    "print(\"upper:\", sum( i.isupper() for i in a), \"lower:\", sum(i.islower() for i in a))"
   ]
  },
  {
   "cell_type": "code",
   "execution_count": null,
   "id": "c080bb85",
   "metadata": {},
   "outputs": [],
   "source": [
    "a = str(input())\n",
    "b = reversed(a)\n",
    "if list(a) == list(b):\n",
    "    print(\"Palindrome\")\n",
    "else:\n",
    "    print(\"Not palindrome\")"
   ]
  },
  {
   "cell_type": "code",
   "execution_count": null,
   "id": "c1315bb5",
   "metadata": {},
   "outputs": [],
   "source": [
    "import time\n",
    "import math\n",
    "a = int(input())\n",
    "msec = int(input())\n",
    "time.sleep(msec/1000)\n",
    "print(\"Square root of\", a, \"after\", msec, \"miliseconds is\", a**0.5)"
   ]
  },
  {
   "cell_type": "code",
   "execution_count": null,
   "id": "ba8cc1e9",
   "metadata": {},
   "outputs": [],
   "source": [
    "a2 = (0, True)\n",
    "print( all(a2))"
   ]
  }
 ],
 "metadata": {
  "kernelspec": {
   "display_name": "Python 3 (ipykernel)",
   "language": "python",
   "name": "python3"
  },
  "language_info": {
   "codemirror_mode": {
    "name": "ipython",
    "version": 3
   },
   "file_extension": ".py",
   "mimetype": "text/x-python",
   "name": "python",
   "nbconvert_exporter": "python",
   "pygments_lexer": "ipython3",
   "version": "3.10.6"
  }
 },
 "nbformat": 4,
 "nbformat_minor": 5
}
