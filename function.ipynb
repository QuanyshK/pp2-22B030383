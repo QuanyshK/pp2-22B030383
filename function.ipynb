{
 "cells": [
  {
   "cell_type": "code",
   "execution_count": 1,
   "id": "424824b5",
   "metadata": {},
   "outputs": [
    {
     "name": "stdout",
     "output_type": "stream",
     "text": [
      "26\n",
      "737.0876006\n"
     ]
    }
   ],
   "source": [
    "def fun(n):\n",
    "    print(n * 28.3495231)\n",
    "a = float(input())\n",
    "fun(a)"
   ]
  },
  {
   "cell_type": "code",
   "execution_count": 2,
   "id": "ebf42406",
   "metadata": {},
   "outputs": [
    {
     "name": "stdout",
     "output_type": "stream",
     "text": [
      "32\n",
      "0.0\n"
     ]
    }
   ],
   "source": [
    "def far(n):\n",
    "    print((5/9)*(n-32))\n",
    "a = int(input())\n",
    "far(a)"
   ]
  },
  {
   "cell_type": "code",
   "execution_count": 3,
   "id": "94dc4c8c",
   "metadata": {},
   "outputs": [
    {
     "name": "stdout",
     "output_type": "stream",
     "text": [
      "35\n",
      "94\n",
      "23\n",
      "12\n"
     ]
    }
   ],
   "source": [
    "def solve(h, l):\n",
    "    for i in range(0, h):\n",
    "        if (h-i)*4 + i*2 == l:\n",
    "            print(i)\n",
    "            print(h-i)\n",
    "            break\n",
    "h = int(input())\n",
    "l = int(input())\n",
    "solve(h, l)"
   ]
  },
  {
   "cell_type": "code",
   "execution_count": 24,
   "id": "f3bde151",
   "metadata": {},
   "outputs": [
    {
     "name": "stdout",
     "output_type": "stream",
     "text": [
      "[2, 3, 5, 7]\n"
     ]
    }
   ],
   "source": [
    "def filter_prime(my_list):\n",
    "    l = []\n",
    "    for i in my_list:\n",
    "        cnt = 0\n",
    "        if(i == 2):\n",
    "            l.append(i)\n",
    "            continue\n",
    "        elif(i == 1):\n",
    "            continue\n",
    "        for j in range(2, i):\n",
    "            if(i % j == 0):\n",
    "                cnt += 1\n",
    "        if(cnt == 0):\n",
    "            l.append(i)\n",
    "    return l\n",
    "my_list = [1, 2, 3, 4, 5, 6, 7, 8, 9, 10]\n",
    "print(filter_prime(my_list))\n",
    "\n"
   ]
  },
  {
   "cell_type": "code",
   "execution_count": 4,
   "id": "2d93dca4",
   "metadata": {},
   "outputs": [
    {
     "name": "stdout",
     "output_type": "stream",
     "text": [
      "1 2\n",
      "('1', '2')\n",
      "('2', '1')\n"
     ]
    }
   ],
   "source": [
    "from itertools import permutations\n",
    "def perm(strg):\n",
    "    for i in list(permutations(strg)):\n",
    "        print(i)\n",
    "a = input().split()\n",
    "perm(a)"
   ]
  },
  {
   "cell_type": "code",
   "execution_count": 6,
   "id": "56294746",
   "metadata": {},
   "outputs": [
    {
     "name": "stdout",
     "output_type": "stream",
     "text": [
      "re ererer\n",
      "['ererer', 're']\n"
     ]
    }
   ],
   "source": [
    "def revers(s):\n",
    "    res = s[::-1]\n",
    "    print(res)\n",
    "a = input().split()\n",
    "revers(a)"
   ]
  },
  {
   "cell_type": "code",
   "execution_count": 10,
   "id": "c0984443",
   "metadata": {},
   "outputs": [
    {
     "name": "stdout",
     "output_type": "stream",
     "text": [
      "1 3 3\n",
      "True\n"
     ]
    }
   ],
   "source": [
    "def has3(n):\n",
    "    for i in range(0, len(list(n))):\n",
    "        if  int(n[i]) ==int(n[i+1]) == 3:\n",
    "            return True\n",
    "    return False    \n",
    "\n",
    "a = input().split()\n",
    "print(has3(a))"
   ]
  },
  {
   "cell_type": "code",
   "execution_count": 12,
   "id": "c194daa9",
   "metadata": {},
   "outputs": [
    {
     "name": "stdout",
     "output_type": "stream",
     "text": [
      "1 0 0 7\n"
     ]
    },
    {
     "data": {
      "text/plain": [
       "True"
      ]
     },
     "execution_count": 12,
     "metadata": {},
     "output_type": "execute_result"
    }
   ],
   "source": [
    "def spygame(n):\n",
    "    for i in range(0, len(n)):\n",
    "        if int(n[i]) == 0:\n",
    "            for x in range(i+1, len(n)):\n",
    "                if int(n[x]) == 0:\n",
    "                    for y in range(x+1, len(n)):\n",
    "                        if int(n[y]) == 7:\n",
    "                            return True\n",
    "    return False\n",
    "a = input().split()\n",
    "spygame(a)"
   ]
  },
  {
   "cell_type": "code",
   "execution_count": 2,
   "id": "bf95bb47",
   "metadata": {},
   "outputs": [
    {
     "name": "stdout",
     "output_type": "stream",
     "text": [
      "2\n",
      "33.49333333333333\n"
     ]
    }
   ],
   "source": [
    "import math\n",
    "def vol(n):\n",
    "    print((4/3)*3.14*n**3)\n",
    "a = float(input())\n",
    "vol(a)"
   ]
  },
  {
   "cell_type": "code",
   "execution_count": 13,
   "id": "263ed5a6",
   "metadata": {},
   "outputs": [
    {
     "name": "stdout",
     "output_type": "stream",
     "text": [
      "1 2 9 9 \n",
      "['1', '2', '9'] "
     ]
    }
   ],
   "source": [
    "def notset(n):\n",
    "    ns2 = []\n",
    "    for i in n:\n",
    "        if i not in ns2:\n",
    "            ns2.append(i)\n",
    "    print(ns2, end = ' ')\n",
    "a = input().split()\n",
    "notset(a)"
   ]
  },
  {
   "cell_type": "code",
   "execution_count": 15,
   "id": "65a07cee",
   "metadata": {},
   "outputs": [
    {
     "name": "stdout",
     "output_type": "stream",
     "text": [
      "ada\n"
     ]
    },
    {
     "data": {
      "text/plain": [
       "True"
      ]
     },
     "execution_count": 15,
     "metadata": {},
     "output_type": "execute_result"
    }
   ],
   "source": [
    "def pal(n):\n",
    "    res = n[::-1]\n",
    "    if n == res:\n",
    "        return True\n",
    "    else:\n",
    "        return False\n",
    "a= input()\n",
    "pal(a)"
   ]
  },
  {
   "cell_type": "code",
   "execution_count": 16,
   "id": "7c934d65",
   "metadata": {},
   "outputs": [
    {
     "name": "stdout",
     "output_type": "stream",
     "text": [
      "1 2 3 4\n",
      "*\n",
      "**\n",
      "***\n",
      "****\n"
     ]
    }
   ],
   "source": [
    "def histo(n):\n",
    "    for i in n:\n",
    "        print(\"*\"*int(i))\n",
    "a = input().split()\n",
    "histo(a)"
   ]
  },
  {
   "cell_type": "code",
   "execution_count": 18,
   "id": "57878b49",
   "metadata": {},
   "outputs": [
    {
     "name": "stdout",
     "output_type": "stream",
     "text": [
      "Hello! What is your name?Name\n",
      "Well, Name, I am thinking of a number between 1 and 20.\n",
      "Take a guess.15\n",
      "Your guess is too more.\n",
      "Take a guess.11\n",
      "Your guess is too more.\n",
      "Take a guess.11\n",
      "Your guess is too more.\n",
      "Take a guess.10\n",
      "Your guess is too more.\n",
      "Take a guess.8\n",
      "Your guess is too more.\n",
      "Take a guess.5\n",
      "Your guess is too more.\n",
      "Take a guess.1\n",
      "Your guess is too low.\n",
      "Take a guess.2\n",
      "Your guess is too low.\n",
      "Take a guess.3\n",
      "Your guess is too low.\n",
      "Take a guess.4\n",
      "Good job, Name! You guessed my number in 10 guesses!\n"
     ]
    }
   ],
   "source": [
    "import random\n",
    "def game(a, rand, user, cnt):\n",
    "    if a == rand:\n",
    "        print(\"Good job,\", user+\"!\", \"You guessed my number in\", cnt, \"guesses!\")\n",
    "    elif a < rand:\n",
    "        print(\"Your guess is too low.\")\n",
    "    else:\n",
    "        print(\"Your guess is too more.\")\n",
    "user = input(\"Hello! What is your name?\")\n",
    "rand = random.randint(1, 12)\n",
    "a = cnt = 0\n",
    "print(\"Well,\", user+\",\", \"I am thinking of a number between 1 and 20.\")\n",
    "while a != rand:\n",
    "    a = int(input(\"Take a guess.\"))\n",
    "    cnt+=1\n",
    "    game(a, rand, user, cnt)"
   ]
  },
  {
   "cell_type": "code",
   "execution_count": 19,
   "id": "16dd9c61",
   "metadata": {},
   "outputs": [
    {
     "name": "stdout",
     "output_type": "stream",
     "text": [
      "Exam\n",
      "False\n",
      "Usual Suspects\n",
      "Hitman\n",
      "Dark Knight\n",
      "The Help\n",
      "The Choice\n",
      "Colonia\n",
      "Love\n",
      "Joking muck\n",
      "What is the name\n",
      "Detective\n",
      "We Two\n",
      "{'name': 'Hitman', 'imdb': 6.3, 'category': 'Action'}\n",
      "{'name': 'Dark Knight', 'imdb': 9.0, 'category': 'Adventure'}\n",
      "{'name': 'Joking muck', 'imdb': 7.2, 'category': 'Comedy'}\n",
      "{'name': 'Ringing Crime', 'imdb': 4.0, 'category': 'Crime'}\n",
      "{'name': 'The Help', 'imdb': 8.0, 'category': 'Drama'}\n",
      "{'name': 'The Choice', 'imdb': 6.2, 'category': 'Romance'}\n",
      "{'name': 'Colonia', 'imdb': 7.4, 'category': 'Romance'}\n",
      "{'name': 'Love', 'imdb': 6.0, 'category': 'Romance'}\n",
      "{'name': 'Bride Wars', 'imdb': 5.4, 'category': 'Romance'}\n",
      "{'name': 'We Two', 'imdb': 7.2, 'category': 'Romance'}\n",
      "{'name': 'What is the name', 'imdb': 9.2, 'category': 'Suspense'}\n",
      "{'name': 'Detective', 'imdb': 7.0, 'category': 'Suspense'}\n",
      "{'name': 'Usual Suspects', 'imdb': 7.0, 'category': 'Thriller'}\n",
      "{'name': 'Exam', 'imdb': 4.2, 'category': 'Thriller'}\n",
      "{'name': 'AlphaJet', 'imdb': 3.2, 'category': 'War'}\n",
      "6.486666666666667\n",
      "6.486666666666667\n"
     ]
    }
   ],
   "source": [
    "movies = [\n",
    "{\n",
    "\"name\": \"Usual Suspects\", \n",
    "\"imdb\": 7.0,\n",
    "\"category\": \"Thriller\"\n",
    "},\n",
    "{\n",
    "\"name\": \"Hitman\",\n",
    "\"imdb\": 6.3,\n",
    "\"category\": \"Action\"\n",
    "},\n",
    "{\n",
    "\"name\": \"Dark Knight\",\n",
    "\"imdb\": 9.0,\n",
    "\"category\": \"Adventure\"\n",
    "},\n",
    "{\n",
    "\"name\": \"The Help\",\n",
    "\"imdb\": 8.0,\n",
    "\"category\": \"Drama\"\n",
    "},\n",
    "{\n",
    "\"name\": \"The Choice\",\n",
    "\"imdb\": 6.2,\n",
    "\"category\": \"Romance\"\n",
    "},\n",
    "{\n",
    "\"name\": \"Colonia\",\n",
    "\"imdb\": 7.4,\n",
    "\"category\": \"Romance\"\n",
    "},\n",
    "{\n",
    "\"name\": \"Love\",\n",
    "\"imdb\": 6.0,\n",
    "\"category\": \"Romance\"\n",
    "},\n",
    "{\n",
    "\"name\": \"Bride Wars\",\n",
    "\"imdb\": 5.4,\n",
    "\"category\": \"Romance\"\n",
    "},\n",
    "{\n",
    "\"name\": \"AlphaJet\",\n",
    "\"imdb\": 3.2,\n",
    "\"category\": \"War\"\n",
    "},\n",
    "{\n",
    "\"name\": \"Ringing Crime\",\n",
    "\"imdb\": 4.0,\n",
    "\"category\": \"Crime\"\n",
    "},\n",
    "{\n",
    "\"name\": \"Joking muck\",\n",
    "\"imdb\": 7.2,\n",
    "\"category\": \"Comedy\"\n",
    "},\n",
    "{\n",
    "\"name\": \"What is the name\",\n",
    "\"imdb\": 9.2,\n",
    "\"category\": \"Suspense\"\n",
    "},\n",
    "{\n",
    "\"name\": \"Detective\",\n",
    "\"imdb\": 7.0,\n",
    "\"category\": \"Suspense\"\n",
    "},\n",
    "{\n",
    "\"name\": \"Exam\",\n",
    "\"imdb\": 4.2,\n",
    "\"category\": \"Thriller\"\n",
    "},\n",
    "{\n",
    "\"name\": \"We Two\",\n",
    "\"imdb\": 7.2,\n",
    "\"category\": \"Romance\"\n",
    "}\n",
    "]\n",
    "import random\n",
    "def good(movies):\n",
    "    i = random.randint(0, len(movies)-1)\n",
    "    print(movies[i][\"name\"])\n",
    "    if movies[i][\"imdb\"]>5.5:\n",
    "        return True\n",
    "    else:\n",
    "        return False\n",
    "print(good(movies))\n",
    "#\n",
    "def imdb(movies):\n",
    "    if movies[\"imdb\"] > 5.5:\n",
    "        return True\n",
    "    return False\n",
    "for i in range(0, len(movies)):\n",
    "    if(imdb(movies[i])):\n",
    "        print(movies[i][\"name\"])\n",
    "#\n",
    "\n",
    "def category(movies):\n",
    "    category1 = []\n",
    "    cnt = 0\n",
    "    for i in range(0, len(movies)):\n",
    "        if movies[i][\"category\"] not in category1:\n",
    "            category1.append(movies[i][\"category\"])\n",
    "            cnt += 1\n",
    "    category1.sort()\n",
    "    for j in range(0, cnt):\n",
    "        for k in range(0, len(movies)):\n",
    "            if movies[k][\"category\"] == category1[j]:\n",
    "                print(movies[k])\n",
    "category(movies)\n",
    "#\n",
    "def average(movies):\n",
    "    summ = cnt = 0\n",
    "    for i in range(0, len(movies)):\n",
    "        summ += float(movies[i][\"imdb\"])\n",
    "        cnt += 1\n",
    "    print(summ / cnt)\n",
    "average(movies)\n",
    "#\n",
    "def categorya(movies):\n",
    "    category1 = []\n",
    "    cnt = summ = 0\n",
    "    for i in range(0, len(movies)):\n",
    "        if movies[i][\"category\"] not in category1:\n",
    "            category1.append(movies[i][\"category\"])\n",
    "            cnt += 1\n",
    "    count = 0\n",
    "    for j in range(0, cnt):\n",
    "        for k in range(0, len(movies)):\n",
    "            if movies[k][\"category\"] == category1[j]:\n",
    "                summ += float(movies[k][\"imdb\"])\n",
    "                count += 1\n",
    "    print(summ / count)\n",
    "categorya(movies)"
   ]
  },
  {
   "cell_type": "code",
   "execution_count": null,
   "id": "7428cf83",
   "metadata": {},
   "outputs": [],
   "source": []
  }
 ],
 "metadata": {
  "kernelspec": {
   "display_name": "Python 3 (ipykernel)",
   "language": "python",
   "name": "python3"
  },
  "language_info": {
   "codemirror_mode": {
    "name": "ipython",
    "version": 3
   },
   "file_extension": ".py",
   "mimetype": "text/x-python",
   "name": "python",
   "nbconvert_exporter": "python",
   "pygments_lexer": "ipython3",
   "version": "3.10.6"
  }
 },
 "nbformat": 4,
 "nbformat_minor": 5
}
