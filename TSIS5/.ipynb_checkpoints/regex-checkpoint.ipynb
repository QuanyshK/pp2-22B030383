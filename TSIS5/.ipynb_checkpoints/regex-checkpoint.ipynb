{
 "cells": [
  {
   "cell_type": "code",
   "execution_count": 1,
   "id": "88c47a20",
   "metadata": {},
   "outputs": [
    {
     "name": "stdout",
     "output_type": "stream",
     "text": [
      "adkfgk\n",
      "yeeee buddy\n"
     ]
    }
   ],
   "source": [
    "import re\n",
    "pat = r'a+b*'\n",
    "s = input()\n",
    "x = re.search(pat, s)\n",
    "if x:\n",
    "    print(\"yeeee buddy\")\n",
    "else:\n",
    "    print(\"Mauricio, I cant... I cant move it move it\")"
   ]
  },
  {
   "cell_type": "code",
   "execution_count": 2,
   "id": "28372e8e",
   "metadata": {},
   "outputs": [
    {
     "name": "stdout",
     "output_type": "stream",
     "text": [
      "abb\n",
      "OMAEWA MOU SHINDEIRU\n"
     ]
    }
   ],
   "source": [
    "import re\n",
    "pat1 = r'a{1}b{2,3}'\n",
    "\n",
    "b = input()\n",
    "x = re.search(pat1, b)\n",
    "\n",
    "if x:\n",
    "\n",
    "    print(\"OMAEWA MOU SHINDEIRU\")\n",
    "else:\n",
    "    print(\"NUNI?!\")"
   ]
  },
  {
   "cell_type": "code",
   "execution_count": 3,
   "id": "b5714310",
   "metadata": {},
   "outputs": [
    {
     "name": "stdout",
     "output_type": "stream",
     "text": [
      "dkskfkd_dfdfj\n",
      "['dkskfkd_dfdfj']\n"
     ]
    }
   ],
   "source": [
    "import re \n",
    "pat = r'[a-z]+_[a-z]+'\n",
    "s = input()\n",
    "x = re.findall(pat, s)\n",
    "print(x)"
   ]
  },
  {
   "cell_type": "code",
   "execution_count": 4,
   "id": "aeaae76a",
   "metadata": {},
   "outputs": [
    {
     "name": "stdout",
     "output_type": "stream",
     "text": [
      "FjdfjfFjskdfjj\n",
      "['Fjdfjf', 'Fjskdfjj']\n"
     ]
    }
   ],
   "source": [
    "import re\n",
    "pat = r'[A-Z]+[a-z]+'\n",
    "s = input()\n",
    "x = re.findall(pat, s)\n",
    "print(x)"
   ]
  },
  {
   "cell_type": "code",
   "execution_count": 5,
   "id": "7ea226cd",
   "metadata": {},
   "outputs": [
    {
     "name": "stdout",
     "output_type": "stream",
     "text": [
      "asdfdfjdjkfb\n",
      "AY YO\n"
     ]
    }
   ],
   "source": [
    "import re\n",
    "pat = r'a+[a-z]+b'\n",
    "s = input()\n",
    "x = re.search(pat, s)\n",
    "if x:\n",
    "    print(\"AY YO\")\n",
    "else:\n",
    "    print(\"Something in the way...\")"
   ]
  },
  {
   "cell_type": "code",
   "execution_count": 6,
   "id": "0212164e",
   "metadata": {},
   "outputs": [
    {
     "name": "stdout",
     "output_type": "stream",
     "text": [
      "jksf sdfkj, sjdj.\n",
      "jksf:sdfkj::sjdj:\n"
     ]
    }
   ],
   "source": [
    "import re\n",
    "s = input()\n",
    "x = re.sub(\"[ ,.]\", \":\", s)\n",
    "print(x)"
   ]
  },
  {
   "cell_type": "code",
   "execution_count": 1,
   "id": "8c9c4ba7",
   "metadata": {},
   "outputs": [
    {
     "name": "stdout",
     "output_type": "stream",
     "text": [
      "sgjhhjfd_fdgndf\n",
      "sgjhhjfdfdgndf\n"
     ]
    }
   ],
   "source": [
    "import re\n",
    "s = input()\n",
    "x = re.sub(\"_\",\"\",s)\n",
    "print(x)"
   ]
  },
  {
   "cell_type": "code",
   "execution_count": 2,
   "id": "ad555b02",
   "metadata": {},
   "outputs": [
    {
     "name": "stdout",
     "output_type": "stream",
     "text": [
      "DjdfjhfhFjdfh\n",
      "['Djdfjhfh', 'Fjdfh']\n"
     ]
    }
   ],
   "source": [
    "import re\n",
    "s = input()\n",
    "x = re.split(r'(?<!^)(?=[A-Z])', s)\n",
    "print(x)"
   ]
  },
  {
   "cell_type": "code",
   "execution_count": 4,
   "id": "debca14e",
   "metadata": {},
   "outputs": [
    {
     "name": "stdout",
     "output_type": "stream",
     "text": [
      "FkdfkGdflgkGlkfgk\n",
      "Fkdfk \u0001Gdflgk \u0001Glkfgk\n"
     ]
    }
   ],
   "source": [
    "import re \n",
    "s = input()\n",
    "pat = r'(?<=\\w)(?=[A-Z])'\n",
    "x = re.sub(pat, ' \\1', s).strip()\n",
    "print(x)\n"
   ]
  },
  {
   "cell_type": "code",
   "execution_count": 5,
   "id": "7b80a006",
   "metadata": {},
   "outputs": [
    {
     "name": "stdout",
     "output_type": "stream",
     "text": [
      "FkdfkdfFkjdfjfFKfgjkfd\n",
      "Fkdfkdf_Fkjdfjf_F_Kfgjkfd\n"
     ]
    }
   ],
   "source": [
    "import re\n",
    "s = input()\n",
    "x = re.sub(r'(?<!^)(?=[A-Z])', '_', s)\n",
    "print(x)"
   ]
  },
  {
   "cell_type": "code",
   "execution_count": null,
   "id": "864100c8",
   "metadata": {},
   "outputs": [],
   "source": []
  }
 ],
 "metadata": {
  "kernelspec": {
   "display_name": "Python 3 (ipykernel)",
   "language": "python",
   "name": "python3"
  },
  "language_info": {
   "codemirror_mode": {
    "name": "ipython",
    "version": 3
   },
   "file_extension": ".py",
   "mimetype": "text/x-python",
   "name": "python",
   "nbconvert_exporter": "python",
   "pygments_lexer": "ipython3",
   "version": "3.10.6"
  }
 },
 "nbformat": 4,
 "nbformat_minor": 5
}
