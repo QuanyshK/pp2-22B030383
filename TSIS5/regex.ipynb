{
 "cells": [
  {
   "cell_type": "code",
   "execution_count": 6,
   "id": "b5714310",
   "metadata": {},
   "outputs": [
    {
     "name": "stdout",
     "output_type": "stream",
     "text": [
      "vcjbkkjv_kfjdkjfd_kdfjgklfd_dfjkjdfk\n",
      "['vcjbkkjv_kfjdkjfd', 'kdfjgklfd_dfjkjdfk']\n"
     ]
    }
   ],
   "source": [
    "import re \n",
    "pat = r'[a-z]+_[a-z]+'\n",
    "s = input()\n",
    "x = re.findall(pat, s)\n",
    "print(x)"
   ]
  },
  {
   "cell_type": "code",
   "execution_count": 4,
   "id": "aeaae76a",
   "metadata": {},
   "outputs": [
    {
     "name": "stdout",
     "output_type": "stream",
     "text": [
      "FjdfjfFjskdfjj\n",
      "['Fjdfjf', 'Fjskdfjj']\n"
     ]
    }
   ],
   "source": [
    "import re\n",
    "pat = r'[A-Z]+[a-z]+'\n",
    "s = input()\n",
    "x = re.findall(pat, s)\n",
    "print(x)"
   ]
  },
  {
   "cell_type": "code",
   "execution_count": 9,
   "id": "7ea226cd",
   "metadata": {},
   "outputs": [
    {
     "name": "stdout",
     "output_type": "stream",
     "text": [
      "asfhgfhb\n",
      "AY YO\n"
     ]
    }
   ],
   "source": [
    "import re\n",
    "pat = r'a+[a-z]+b'\n",
    "s = input()\n",
    "x = re.search(pat, s)\n",
    "if x:\n",
    "    print(\"AY YO\")\n",
    "else:\n",
    "    print(\"Something in the way...\")"
   ]
  },
  {
   "cell_type": "code",
   "execution_count": 1,
   "id": "0212164e",
   "metadata": {},
   "outputs": [
    {
     "name": "stdout",
     "output_type": "stream",
     "text": [
      "hjfdhjgdf jdfjf sfjddjf, jsfj.\n",
      "hjfdhjgdf:jdfjf:sfjddjf::jsfj:\n"
     ]
    }
   ],
   "source": [
    "import re\n",
    "s = input()\n",
    "x = re.sub(\"[ ,.]\", \":\", s)\n",
    "print(x)"
   ]
  },
  {
   "cell_type": "code",
   "execution_count": 7,
   "id": "24cf89f1",
   "metadata": {},
   "outputs": [
    {
     "name": "stdout",
     "output_type": "stream",
     "text": [
      "abb\n",
      "OMAEWA MOU SHINDEIRU\n"
     ]
    }
   ],
   "source": [
    "import re\n",
    "pat1 = r'a{1}b{2,3}'\n",
    "\n",
    "b = input()\n",
    "x = re.search(pat1, b)\n",
    "\n",
    "if x:\n",
    "\n",
    "    print(\"OMAEWA MOU SHINDEIRU\")\n",
    "else:\n",
    "    print(\"NUNI?!\")"
   ]
  },
  {
   "cell_type": "code",
   "execution_count": 8,
   "id": "466eb781",
   "metadata": {},
   "outputs": [
    {
     "name": "stdout",
     "output_type": "stream",
     "text": [
      "dfgkdfgj\n",
      "Mauricio, I cant... I cant move it move it\n"
     ]
    }
   ],
   "source": [
    "import re\n",
    "pat = r'a+b'\n",
    "s = input()\n",
    "x = re.search(pat, s)\n",
    "if x:\n",
    "    print(\"yeeee buddy\")\n",
    "else:\n",
    "    print(\"Mauricio, I cant... I cant move it move it\")"
   ]
  },
  {
   "cell_type": "code",
   "execution_count": 5,
   "id": "8c9c4ba7",
   "metadata": {},
   "outputs": [
    {
     "name": "stdout",
     "output_type": "stream",
     "text": [
      "jfkfjg_fjgj\n",
      "jfkfjg(?<!^)(?=[A-Z])fjgj\n"
     ]
    }
   ],
   "source": [
    "import re\n",
    "s = input()\n",
    "x = re.sub(\"_\",r'(?<!^)(?=[A-Z])',s)\n",
    "print(x)"
   ]
  },
  {
   "cell_type": "code",
   "execution_count": 2,
   "id": "ad555b02",
   "metadata": {},
   "outputs": [
    {
     "name": "stdout",
     "output_type": "stream",
     "text": [
      "DjdfjhfhFjdfh\n",
      "['Djdfjhfh', 'Fjdfh']\n"
     ]
    }
   ],
   "source": [
    "import re\n",
    "s = input()\n",
    "x = re.split(r'(?<!^)(?=[A-Z])', s)\n",
    "print(x)"
   ]
  },
  {
   "cell_type": "code",
   "execution_count": 4,
   "id": "debca14e",
   "metadata": {},
   "outputs": [
    {
     "name": "stdout",
     "output_type": "stream",
     "text": [
      "FkdfkGdflgkGlkfgk\n",
      "Fkdfk \u0001Gdflgk \u0001Glkfgk\n"
     ]
    }
   ],
   "source": [
    "import re \n",
    "s = input()\n",
    "pat = r'(?=[A-Z])'\n",
    "x = re.sub(pat, ' \\1', s).strip()\n",
    "print(x)\n"
   ]
  },
  {
   "cell_type": "code",
   "execution_count": 3,
   "id": "7b80a006",
   "metadata": {},
   "outputs": [
    {
     "name": "stdout",
     "output_type": "stream",
     "text": [
      "jdhfjhgdjGHjfhdhgGhjdfjgh\n",
      "jdhfjhgdj_g_hjfhdhg_ghjdfjgh\n"
     ]
    }
   ],
   "source": [
    "import re\n",
    "s = input()\n",
    "x = re.sub(r'(?<!^)(?=[A-Z])', '_', s).lower()\n",
    "print(x)"
   ]
  },
  {
   "cell_type": "code",
   "execution_count": null,
   "id": "864100c8",
   "metadata": {},
   "outputs": [],
   "source": []
  }
 ],
 "metadata": {
  "kernelspec": {
   "display_name": "Python 3 (ipykernel)",
   "language": "python",
   "name": "python3"
  },
  "language_info": {
   "codemirror_mode": {
    "name": "ipython",
    "version": 3
   },
   "file_extension": ".py",
   "mimetype": "text/x-python",
   "name": "python",
   "nbconvert_exporter": "python",
   "pygments_lexer": "ipython3",
   "version": "3.10.6"
  }
 },
 "nbformat": 4,
 "nbformat_minor": 5
}
