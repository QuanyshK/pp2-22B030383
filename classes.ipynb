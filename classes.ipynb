{
 "cells": [
  {
   "cell_type": "code",
   "execution_count": 1,
   "id": "a2d86e29",
   "metadata": {},
   "outputs": [
    {
     "name": "stdout",
     "output_type": "stream",
     "text": [
      "gt\n",
      "GT\n"
     ]
    }
   ],
   "source": [
    "class string:\n",
    "    def getstring(self):\n",
    "        self.a = input()\n",
    "    def printstring(self):\n",
    "        print(self.a.upper())\n",
    "str = string()\n",
    "str.getstring()\n",
    "str.printstring()"
   ]
  },
  {
   "cell_type": "code",
   "execution_count": 2,
   "id": "90dd95f2",
   "metadata": {},
   "outputs": [
    {
     "name": "stdout",
     "output_type": "stream",
     "text": [
      "2\n",
      "4\n",
      "4\n"
     ]
    }
   ],
   "source": [
    "class shape():\n",
    "    def __init__(self) -> None:\n",
    "        pass\n",
    "    def area(self):\n",
    "        return 0\n",
    "class square():\n",
    "    def __init__(self, length):\n",
    "        shape.__init__(self)\n",
    "        self.length = length\n",
    "    def area(self):\n",
    "        return self.length * self.length\n",
    "x = int(input())\n",
    "s = square(x)\n",
    "print(s.area())\n",
    "print(s.area())"
   ]
  },
  {
   "cell_type": "code",
   "execution_count": 3,
   "id": "5a673751",
   "metadata": {},
   "outputs": [
    {
     "name": "stdout",
     "output_type": "stream",
     "text": [
      "5\n",
      "6\n",
      "30\n"
     ]
    }
   ],
   "source": [
    "class shape():\n",
    "    def __init__(self):\n",
    "        pass\n",
    "    def area(self):\n",
    "        return 0\n",
    "class rectangle():\n",
    "    def __init__(self, length, width):\n",
    "        shape.__init__(self)\n",
    "        self.length = length\n",
    "        self.width = width \n",
    "    def area(self):\n",
    "        return self.length * self.width\n",
    "x = int(input())\n",
    "c = int(input())\n",
    "s = rectangle(x, c)\n",
    "print(s.area()) "
   ]
  },
  {
   "cell_type": "code",
   "execution_count": null,
   "id": "306e4854",
   "metadata": {},
   "outputs": [],
   "source": [
    "class point:\n",
    "    def __init__(self, x, y):\n",
    "        self.x = x\n",
    "        self.y = y\n",
    "\n",
    "    def show(self):\n",
    "        return self.x, self.y\n",
    "\n",
    "    def move(self):\n",
    "        a = input()\n",
    "        b = input()\n",
    "        self.x += int(a)\n",
    "        self.y += int(b)\n",
    "        return self.x, self.y\n",
    "\n",
    "    def dist(self, other):\n",
    "        dx = self.x - other.x\n",
    "        dy = self.y - other.y\n",
    "        return (dx ** 2 + dy ** 2) ** 0.5\n",
    "\n",
    "\n",
    "x1 = input()\n",
    "y1 = input()\n",
    "x2 = input()\n",
    "y2 = input()\n",
    "point1 = point(int(x1), int(y1))\n",
    "point2 = point(int(x2), int(y2))\n",
    "print(point1.dist(point2))\n",
    "print(point1.move())\n",
    "print(point1.show())"
   ]
  },
  {
   "cell_type": "code",
   "execution_count": null,
   "id": "34bb6e7a",
   "metadata": {},
   "outputs": [],
   "source": [
    "class bank:\n",
    "    def __init__(self, owner, balance):\n",
    "        self.owner = owner\n",
    "        self.balance = balance\n",
    "    def deposit(self):\n",
    "        a = input()\n",
    "        self.deposit = int(a)\n",
    "        self.balance += self.deposit\n",
    "\n",
    "    def withdraw(self, withdraw):\n",
    "        self.withdraw = withdraw\n",
    "        if self.balance >= self.withdraw:\n",
    "            self.balance = self.balance - self.withdraw\n",
    "        else:\n",
    "            print(\"Sorry, u dont have any money\")\n",
    "    def account(self):\n",
    "        return self.owner, self.balance\n",
    "\n",
    "\n",
    "name = input()\n",
    "money = input()\n",
    "human = bank(str(name), int(money))\n",
    "print(human.account())\n",
    "human.deposit()\n",
    "human.withdraw(200)\n",
    "print(human.account())"
   ]
  },
  {
   "cell_type": "code",
   "execution_count": null,
   "id": "672620c7",
   "metadata": {},
   "outputs": [],
   "source": []
  },
  {
   "cell_type": "code",
   "execution_count": null,
   "id": "b4b58240",
   "metadata": {},
   "outputs": [],
   "source": []
  }
 ],
 "metadata": {
  "kernelspec": {
   "display_name": "Python 3 (ipykernel)",
   "language": "python",
   "name": "python3"
  },
  "language_info": {
   "codemirror_mode": {
    "name": "ipython",
    "version": 3
   },
   "file_extension": ".py",
   "mimetype": "text/x-python",
   "name": "python",
   "nbconvert_exporter": "python",
   "pygments_lexer": "ipython3",
   "version": "3.10.6"
  }
 },
 "nbformat": 4,
 "nbformat_minor": 5
}
