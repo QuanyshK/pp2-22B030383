{
 "cells": [
  {
   "cell_type": "code",
   "execution_count": 1,
   "id": "3646b42c",
   "metadata": {},
   "outputs": [
    {
     "name": "stdout",
     "output_type": "stream",
     "text": [
      "2023-02-17\n",
      "2023-02-12\n"
     ]
    }
   ],
   "source": [
    "import datetime\n",
    "c_data = datetime.date.today()\n",
    "delta = datetime.timedelta(days=5)\n",
    "c_new = c_data - delta\n",
    "print(c_data)\n",
    "print(c_new)"
   ]
  },
  {
   "cell_type": "code",
   "execution_count": 2,
   "id": "b83e4813",
   "metadata": {},
   "outputs": [
    {
     "name": "stdout",
     "output_type": "stream",
     "text": [
      "2023-02-17\n",
      "2023-02-16\n",
      "2023-02-18\n"
     ]
    }
   ],
   "source": [
    "import datetime\n",
    "c_data = datetime.date.today()\n",
    "delta = datetime.timedelta(days=1)\n",
    "c_new = c_data - delta\n",
    "c_future = c_data + delta\n",
    "print(c_data)\n",
    "print(c_new)\n",
    "print(c_future)"
   ]
  },
  {
   "cell_type": "code",
   "execution_count": 3,
   "id": "4d1c3f5e",
   "metadata": {},
   "outputs": [
    {
     "name": "stdout",
     "output_type": "stream",
     "text": [
      "2023-02-17 22:40:17.358021\n"
     ]
    }
   ],
   "source": [
    "import datetime\n",
    "x = datetime.datetime.now()\n",
    "print(x)"
   ]
  },
  {
   "cell_type": "code",
   "execution_count": 5,
   "id": "d19f7a9c",
   "metadata": {},
   "outputs": [
    {
     "name": "stdout",
     "output_type": "stream",
     "text": [
      "2023-02-17 22:40:17\n",
      "2022-02-17 22:40:17\n",
      "31536000.0\n"
     ]
    }
   ],
   "source": [
    "from datetime import datetime\n",
    "def difference(date1, date2):\n",
    "\tdatetime1 = datetime.strptime(date1, '%Y-%m-%d %H:%M:%S')\n",
    "\tdatetime2 = datetime.strptime(date2, '%Y-%m-%d %H:%M:%S')\n",
    "\tdiffe = abs(datetime1 - datetime2)\n",
    "\treturn diffe.total_seconds()\n",
    "d1 = input()\n",
    "d2 = input()\n",
    "difference = difference(d1, d2)\n",
    "print(difference)"
   ]
  },
  {
   "cell_type": "code",
   "execution_count": null,
   "id": "da977b5a",
   "metadata": {},
   "outputs": [],
   "source": []
  }
 ],
 "metadata": {
  "kernelspec": {
   "display_name": "Python 3 (ipykernel)",
   "language": "python",
   "name": "python3"
  },
  "language_info": {
   "codemirror_mode": {
    "name": "ipython",
    "version": 3
   },
   "file_extension": ".py",
   "mimetype": "text/x-python",
   "name": "python",
   "nbconvert_exporter": "python",
   "pygments_lexer": "ipython3",
   "version": "3.10.6"
  }
 },
 "nbformat": 4,
 "nbformat_minor": 5
}
