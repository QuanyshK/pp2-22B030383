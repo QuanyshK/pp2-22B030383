{
 "cells": [
  {
   "cell_type": "code",
   "execution_count": 1,
   "id": "ec1d136a",
   "metadata": {},
   "outputs": [
    {
     "name": "stdout",
     "output_type": "stream",
     "text": [
      "4\n",
      "0\n",
      "1\n",
      "4\n",
      "9\n"
     ]
    }
   ],
   "source": [
    "def gen_square(n):\n",
    "\tfor i in range(n):\n",
    "\t\tyield i**2\n",
    "a = int(input())\n",
    "square = gen_square(a)\n",
    "for squ in square:\n",
    "\tprint(squ)"
   ]
  },
  {
   "cell_type": "code",
   "execution_count": 2,
   "id": "fbbf540a",
   "metadata": {},
   "outputs": [
    {
     "name": "stdout",
     "output_type": "stream",
     "text": [
      "7\n",
      "0, 2, 4, 6, "
     ]
    }
   ],
   "source": [
    "def even(n):\n",
    "    for i in range(n+1):\n",
    "\t    if i%2==0:\n",
    "\t\t    yield i\n",
    "a = int(input())\n",
    "x = even(a)\n",
    "for h in x:\n",
    "\tprint(h, end = ', ')\n",
    "    "
   ]
  },
  {
   "cell_type": "code",
   "execution_count": 1,
   "id": "2f225692",
   "metadata": {},
   "outputs": [
    {
     "name": "stdout",
     "output_type": "stream",
     "text": [
      "25\n",
      "0\n",
      "12\n",
      "24\n"
     ]
    }
   ],
   "source": [
    "def even(n):\n",
    "    for i in range(n+1):\n",
    "\t    if i%3==0 and i%4==0:\n",
    "\t\t    yield i\n",
    "a = int(input())\n",
    "x = even(a)\n",
    "for h in x:\n",
    "\tprint(h)"
   ]
  },
  {
   "cell_type": "code",
   "execution_count": 6,
   "id": "ccf0f1cd",
   "metadata": {},
   "outputs": [
    {
     "name": "stdout",
     "output_type": "stream",
     "text": [
      "12\n",
      "23\n",
      "144\n",
      "169\n",
      "196\n",
      "225\n",
      "256\n",
      "289\n",
      "324\n",
      "361\n",
      "400\n",
      "441\n",
      "484\n"
     ]
    }
   ],
   "source": [
    "def squares(a, b):\n",
    "\tfor i in range(a, b):\n",
    "\t\tyield i**2\n",
    "c = int(input())\n",
    "d = int(input())\n",
    "s = squares(c, d)\n",
    "for squa in s:\n",
    "\tprint(squa)"
   ]
  },
  {
   "cell_type": "code",
   "execution_count": 7,
   "id": "56a30adf",
   "metadata": {},
   "outputs": [
    {
     "name": "stdout",
     "output_type": "stream",
     "text": [
      "23\n",
      "23\n",
      "22\n",
      "21\n",
      "20\n",
      "19\n",
      "18\n",
      "17\n",
      "16\n",
      "15\n",
      "14\n",
      "13\n",
      "12\n",
      "11\n",
      "10\n",
      "9\n",
      "8\n",
      "7\n",
      "6\n",
      "5\n",
      "4\n",
      "3\n",
      "2\n",
      "1\n",
      "0\n"
     ]
    }
   ],
   "source": [
    "def cdown(n):\n",
    "\twhile n>=0:\n",
    "\t\tyield n\n",
    "\t\tn -= 1 \n",
    "a = int(input())\n",
    "x = cdown(a)\n",
    "for v in x:\n",
    "\tprint(v)"
   ]
  },
  {
   "cell_type": "code",
   "execution_count": null,
   "id": "12cc1299",
   "metadata": {},
   "outputs": [],
   "source": []
  }
 ],
 "metadata": {
  "kernelspec": {
   "display_name": "Python 3 (ipykernel)",
   "language": "python",
   "name": "python3"
  },
  "language_info": {
   "codemirror_mode": {
    "name": "ipython",
    "version": 3
   },
   "file_extension": ".py",
   "mimetype": "text/x-python",
   "name": "python",
   "nbconvert_exporter": "python",
   "pygments_lexer": "ipython3",
   "version": "3.10.6"
  }
 },
 "nbformat": 4,
 "nbformat_minor": 5
}
