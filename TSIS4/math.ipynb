{
 "cells": [
  {
   "cell_type": "code",
   "execution_count": 2,
   "id": "e890efa8",
   "metadata": {},
   "outputs": [
    {
     "name": "stdout",
     "output_type": "stream",
     "text": [
      "57\n",
      "0.9948376736367679\n"
     ]
    }
   ],
   "source": [
    "import math\n",
    "a = int(input())\n",
    "print(math.radians(a))"
   ]
  },
  {
   "cell_type": "code",
   "execution_count": 3,
   "id": "ea937997",
   "metadata": {},
   "outputs": [
    {
     "name": "stdout",
     "output_type": "stream",
     "text": [
      "12\n",
      "3\n",
      "5\n",
      "48.0\n"
     ]
    }
   ],
   "source": [
    "import math\n",
    "a = int(input())\n",
    "b = int(input())\n",
    "c = int(input())\n",
    "print((b+c)*a/2)"
   ]
  },
  {
   "cell_type": "code",
   "execution_count": 1,
   "id": "9e0eecb2",
   "metadata": {},
   "outputs": [
    {
     "name": "stdout",
     "output_type": "stream",
     "text": [
      "2\n",
      "5\n"
     ]
    },
    {
     "ename": "NameError",
     "evalue": "name 'math' is not defined",
     "output_type": "error",
     "traceback": [
      "\u001b[0;31m---------------------------------------------------------------------------\u001b[0m",
      "\u001b[0;31mNameError\u001b[0m                                 Traceback (most recent call last)",
      "Cell \u001b[0;32mIn[1], line 3\u001b[0m\n\u001b[1;32m      1\u001b[0m a \u001b[38;5;241m=\u001b[39m \u001b[38;5;28mint\u001b[39m(\u001b[38;5;28minput\u001b[39m())\n\u001b[1;32m      2\u001b[0m b \u001b[38;5;241m=\u001b[39m \u001b[38;5;28mint\u001b[39m(\u001b[38;5;28minput\u001b[39m())\n\u001b[0;32m----> 3\u001b[0m f \u001b[38;5;241m=\u001b[39m \u001b[43mmath\u001b[49m\u001b[38;5;241m.\u001b[39mradians(\u001b[38;5;241m180\u001b[39m\u001b[38;5;241m/\u001b[39ma)\n\u001b[1;32m      4\u001b[0m d \u001b[38;5;241m=\u001b[39m math\u001b[38;5;241m.\u001b[39mtan(f)\n\u001b[1;32m      5\u001b[0m c \u001b[38;5;241m=\u001b[39m b\u001b[38;5;241m/\u001b[39m(\u001b[38;5;241m2\u001b[39m\u001b[38;5;241m*\u001b[39md)\n",
      "\u001b[0;31mNameError\u001b[0m: name 'math' is not defined"
     ]
    }
   ],
   "source": [
    "import math\n",
    "a = int(input())\n",
    "b = int(input())\n",
    "f = math.radians(180/a)\n",
    "d = math.tan(f)\n",
    "c = b/(2*d)\n",
    "e = a*b\n",
    "print(int(c*e/2))"
   ]
  },
  {
   "cell_type": "code",
   "execution_count": 5,
   "id": "12459db1",
   "metadata": {},
   "outputs": [
    {
     "name": "stdout",
     "output_type": "stream",
     "text": [
      "45\n",
      "56\n",
      "2520\n"
     ]
    }
   ],
   "source": [
    "import math\n",
    "a = int(input())\n",
    "b = int(input())\n",
    "print(a*b)"
   ]
  },
  {
   "cell_type": "code",
   "execution_count": null,
   "id": "6537adba",
   "metadata": {},
   "outputs": [],
   "source": []
  }
 ],
 "metadata": {
  "kernelspec": {
   "display_name": "Python 3 (ipykernel)",
   "language": "python",
   "name": "python3"
  },
  "language_info": {
   "codemirror_mode": {
    "name": "ipython",
    "version": 3
   },
   "file_extension": ".py",
   "mimetype": "text/x-python",
   "name": "python",
   "nbconvert_exporter": "python",
   "pygments_lexer": "ipython3",
   "version": "3.10.6"
  }
 },
 "nbformat": 4,
 "nbformat_minor": 5
}
